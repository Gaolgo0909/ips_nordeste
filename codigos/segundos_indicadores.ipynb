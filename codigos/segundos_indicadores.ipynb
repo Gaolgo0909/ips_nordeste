{
 "cells": [
  {
   "cell_type": "code",
   "execution_count": 1,
   "metadata": {},
   "outputs": [],
   "source": [
    "import pandas as pd"
   ]
  },
  {
   "cell_type": "code",
   "execution_count": 2,
   "metadata": {},
   "outputs": [],
   "source": [
    "paths_inputs = \"C:/Users/gaolg/OneDrive/Área de Trabalho/projetos/ips_nordeste/bases_tratadas/\"\n",
    "paths_outputs = \"C:/Users/gaolg/OneDrive/Área de Trabalho/projetos/ips_nordeste/Indicadores/segundos/\""
   ]
  },
  {
   "cell_type": "code",
   "execution_count": 8,
   "metadata": {},
   "outputs": [
    {
     "name": "stderr",
     "output_type": "stream",
     "text": [
      "C:\\Users\\gaolg\\AppData\\Local\\Temp\\ipykernel_656\\502367773.py:2: DtypeWarning: Columns (27) have mixed types. Specify dtype option on import or set low_memory=False.\n",
      "  data = pd.read_csv(path_censo,encoding=\"latin1\", sep=';')\n"
     ]
    }
   ],
   "source": [
    "path_censo = \"C:/Users/gaolg/OneDrive/Área de Trabalho/projetos/ips_nordeste/Fundamentos para o Bem-estar/censo_escolar/censo_2022/microdados_ed_basica_2022.csv\"\n",
    "data = pd.read_csv(path_censo,encoding=\"latin1\", sep=';')\n",
    "populacao = pd.read_parquet(paths_inputs+\"populacao_tratados.parquet\")\n",
    "populacao = populacao[[\"cod_municipio\", \"pop_2021\"]]"
   ]
  },
  {
   "attachments": {},
   "cell_type": "markdown",
   "metadata": {},
   "source": [
    "#### Reprovação e abandono ensino fundamental"
   ]
  },
  {
   "cell_type": "code",
   "execution_count": 24,
   "metadata": {},
   "outputs": [],
   "source": [
    "path = \"C:/Users/gaolg/OneDrive/Área de Trabalho/projetos/ips_nordeste/Fundamentos para o Bem-estar/rendimento_escolar/tx_rend_municipios_2022.xlsx\"\n",
    "data = pd.read_excel(path)\n",
    "\n",
    "data = data.query(\"filtro_1 == 'Total' & filtro_2 == 'Total' \").drop(columns=['filtro_1','filtro_2'])\n",
    "\n",
    "repovacao_ef = data[[\"ano\", \"cod_municipio\", \"reprovacao_ef\"]]\n",
    "abandono_ef = data[[\"ano\", \"cod_municipio\", \"abandono_ef\"]]"
   ]
  },
  {
   "cell_type": "code",
   "execution_count": 27,
   "metadata": {},
   "outputs": [],
   "source": [
    "repovacao_ef.to_csv(paths_outputs + \"reprovacao_ef.csv\", index=False)\n",
    "abandono_ef.to_csv(paths_outputs + \"abandono_ef.csv\", index=False)"
   ]
  },
  {
   "attachments": {},
   "cell_type": "markdown",
   "metadata": {},
   "source": [
    "#### TDI"
   ]
  },
  {
   "cell_type": "code",
   "execution_count": 38,
   "metadata": {},
   "outputs": [],
   "source": [
    "data = pd.read_excel(\"C:/Users/gaolg/OneDrive/Área de Trabalho/projetos/ips_nordeste/Fundamentos para o Bem-estar/tdi/tdi_2022.xlsx\")"
   ]
  },
  {
   "cell_type": "code",
   "execution_count": 39,
   "metadata": {},
   "outputs": [],
   "source": [
    "data = data.query(\"filtro_1 == 'Total' & filtro_2 == 'Total' \").drop(columns=['filtro_1','filtro_2'])\n",
    "\n",
    "tdi_ef = data[[\"ano\", \"cod_municipio\", \"tdi_ef\"]]\n",
    "tdi_em = data[[\"ano\", \"cod_municipio\", \"tdi_em\"]]\n",
    "\n",
    "tdi_ef.to_csv(paths_outputs + \"tdi_ef.csv\", index=False)\n",
    "tdi_em.to_csv(paths_outputs + \"tdi_em.csv\", index=False)"
   ]
  },
  {
   "attachments": {},
   "cell_type": "markdown",
   "metadata": {},
   "source": [
    "#### IDEB"
   ]
  },
  {
   "cell_type": "code",
   "execution_count": 42,
   "metadata": {},
   "outputs": [],
   "source": [
    "path = \"C:/Users/gaolg/OneDrive/Área de Trabalho/projetos/ips_nordeste/Fundamentos para o Bem-estar/ideb/ideb.parquet\"\n",
    "ideb = pd.read_parquet(path)\n",
    "ideb = ideb.query(\"ano == 2021\")\n",
    "\n",
    "ideb = ideb[[\"ano\", \"id_municipio\", \"ideb\"]].groupby([\"ano\", \"id_municipio\"]).mean().reset_index()\n",
    "ideb.rename(columns={\"id_municipio\": \"cod_municipio\"}, inplace=True)\n",
    "ideb.to_csv(paths_outputs + \"ideb.csv\", index=False)"
   ]
  },
  {
   "cell_type": "code",
   "execution_count": 59,
   "metadata": {},
   "outputs": [],
   "source": [
    "ideb = ideb[[\"ano\", \"id_municipio\", \"ideb\"]].groupby([\"ano\", \"id_municipio\"]).mean().reset_index()\n",
    "ideb.rename(columns={\"id_municipio\": \"cod_municipio\"}, inplace=True)\n",
    "ideb.to_csv(paths_outputs + \"ideb.csv\", index=False)"
   ]
  },
  {
   "attachments": {},
   "cell_type": "markdown",
   "metadata": {},
   "source": [
    "##### Internet banda-larga"
   ]
  },
  {
   "cell_type": "code",
   "execution_count": 64,
   "metadata": {},
   "outputs": [],
   "source": [
    "path = \"C:/Users/gaolg/OneDrive/Área de Trabalho/projetos/ips_nordeste/Fundamentos para o Bem-estar/banda_larga/banda_larga.parquet\"\n",
    "data = pd.read_parquet(path)\n",
    "data[\"densidade\"] = data[\"densidade\"].astype(float)\n",
    "data = data.query(\"ano == 2023\")\n",
    "\n",
    "banda_larga = data[[\"ano\", \"id_municipio\", \"densidade\"]].groupby([\"ano\", \"id_municipio\"], as_index=False).mean()\n",
    "banda_larga.rename(columns={\"id_municipio\": \"cod_municipio\"}, inplace=True)\n",
    "\n",
    "banda_larga.to_csv(paths_outputs + \"banda_larga.csv\", index=False)\n"
   ]
  },
  {
   "attachments": {},
   "cell_type": "markdown",
   "metadata": {},
   "source": [
    "#### Telefonia Fixa"
   ]
  },
  {
   "cell_type": "code",
   "execution_count": 87,
   "metadata": {},
   "outputs": [],
   "source": [
    "path = \"C:/Users/gaolg/OneDrive/Área de Trabalho/projetos/ips_nordeste/Fundamentos para o Bem-estar/telefone_fixo/densidade_telefone_fixo.csv\"\n",
    "data = pd.read_csv(path, sep = \";\")"
   ]
  },
  {
   "cell_type": "code",
   "execution_count": 88,
   "metadata": {},
   "outputs": [],
   "source": [
    "data = data.rename(\n",
    "    columns={\n",
    "        \"Ano\": \"ano\",\n",
    "        \"Código IBGE\":\"cod_municipio\",\n",
    "        \"Densidade\":\"densidade\",\n",
    "        \"Nível Geográfico Densidade\":\"filtro\"})\n",
    "data = data.query(\"ano == 2023 & filtro == 'Municipio'\")\n",
    "data = data[[\"ano\", \"cod_municipio\", \"densidade\"]]"
   ]
  },
  {
   "cell_type": "code",
   "execution_count": 89,
   "metadata": {},
   "outputs": [],
   "source": [
    "data[\"cod_municipio\"] = data[\"cod_municipio\"].apply(lambda x: str(x).split(\".\")[0])\n",
    "data[\"densidade\"] = data[\"densidade\"].apply(lambda x: x.replace(\",\",\".\")).astype(float)\n",
    "data = data.groupby([\"ano\", \"cod_municipio\"], as_index=False).mean()\n",
    "data.to_csv(paths_outputs + \"densidade_telefone_fixo.csv\", index=False)"
   ]
  },
  {
   "attachments": {},
   "cell_type": "markdown",
   "metadata": {},
   "source": [
    "#### Telefonia Movel"
   ]
  },
  {
   "cell_type": "code",
   "execution_count": 101,
   "metadata": {},
   "outputs": [],
   "source": [
    "path = \"C:/Users/gaolg/OneDrive/Área de Trabalho/projetos/ips_nordeste/Fundamentos para o Bem-estar/telefone_movel/densidade_telefone_movel.csv\"\n",
    "data = pd.read_csv(path, sep = \";\")"
   ]
  },
  {
   "cell_type": "code",
   "execution_count": 103,
   "metadata": {},
   "outputs": [],
   "source": [
    "data = data.rename(\n",
    "    columns={\n",
    "        \"Ano\": \"ano\",\n",
    "        \"Código IBGE\":\"cod_municipio\",\n",
    "        \"Densidade\":\"densidade\",\n",
    "        \"Nível Geográfico Densidade\":\"filtro\"})\n",
    "data = data.query(\"ano == 2023 & filtro == 'Municipio'\")\n",
    "data = data[[\"ano\", \"cod_municipio\", \"densidade\"]]"
   ]
  },
  {
   "cell_type": "code",
   "execution_count": 104,
   "metadata": {},
   "outputs": [],
   "source": [
    "data[\"cod_municipio\"] = data[\"cod_municipio\"].apply(lambda x: str(x).split(\".\")[0])\n",
    "data[\"densidade\"] = data[\"densidade\"].apply(lambda x: x.replace(\",\",\".\")).astype(float)\n",
    "data = data.groupby([\"ano\", \"cod_municipio\"], as_index=False).mean()"
   ]
  },
  {
   "cell_type": "code",
   "execution_count": 108,
   "metadata": {},
   "outputs": [],
   "source": [
    "data.to_csv(paths_outputs + \"densidade_telefone_movel.csv\", index=False)"
   ]
  },
  {
   "attachments": {},
   "cell_type": "markdown",
   "metadata": {},
   "source": [
    "#### Televisao"
   ]
  },
  {
   "cell_type": "code",
   "execution_count": 100,
   "metadata": {},
   "outputs": [],
   "source": [
    "path = \"C:/Users/gaolg/OneDrive/Área de Trabalho/projetos/ips_nordeste/Fundamentos para o Bem-estar/tv_assinatura/densidade_tv.csv\"\n",
    "data = pd.read_csv(path, sep = \";\")"
   ]
  },
  {
   "cell_type": "code",
   "execution_count": 92,
   "metadata": {},
   "outputs": [],
   "source": [
    "data = data.rename(\n",
    "    columns={\n",
    "        \"Ano\": \"ano\",\n",
    "        \"Código IBGE\":\"cod_municipio\",\n",
    "        \"Densidade\":\"densidade\",\n",
    "        \"Nível Geográfico Densidade\":\"filtro\"})\n",
    "data = data.query(\"ano == 2023 & filtro == 'Municipio'\")\n",
    "data = data[[\"ano\", \"cod_municipio\", \"densidade\"]]"
   ]
  },
  {
   "cell_type": "code",
   "execution_count": 94,
   "metadata": {},
   "outputs": [],
   "source": [
    "data[\"cod_municipio\"] = data[\"cod_municipio\"].apply(lambda x: str(x).split(\".\")[0])\n",
    "data[\"densidade\"] = data[\"densidade\"].apply(lambda x: x.replace(\",\",\".\")).astype(float)\n",
    "data = data.groupby([\"ano\", \"cod_municipio\"], as_index=False).mean()"
   ]
  },
  {
   "cell_type": "code",
   "execution_count": 96,
   "metadata": {},
   "outputs": [],
   "source": [
    "data.to_csv(paths_outputs + \"densidade_tv_assinatura.csv\", index=False)"
   ]
  },
  {
   "attachments": {},
   "cell_type": "markdown",
   "metadata": {},
   "source": [
    "#### Emissões CO2"
   ]
  },
  {
   "cell_type": "code",
   "execution_count": 32,
   "metadata": {},
   "outputs": [],
   "source": [
    "path = \"C:/Users/gaolg/OneDrive/Área de Trabalho/projetos/ips_nordeste/Fundamentos para o Bem-estar/gases/gases_tratados.xlsx\"\n",
    "gases  = pd.read_excel(path)\n",
    "\n",
    "gases[\"cod_municipio\"] = gases[\"cod_municipio\"].astype(str)\n",
    "populacao[\"cod_municipio\"] = populacao[\"cod_municipio\"].astype(str)\n",
    "\n",
    "gases = gases.merge(populacao, on=\"cod_municipio\", how=\"left\")\n",
    "gases[\"emissoes_per_capita\"] = gases[\"emissoes_2019\"] / gases[\"pop_2021\"]\n",
    "gases.to_csv(paths_outputs + \"gases_co2_per_capita.csv\", index=False)"
   ]
  }
 ],
 "metadata": {
  "kernelspec": {
   "display_name": "Python 3",
   "language": "python",
   "name": "python3"
  },
  "language_info": {
   "codemirror_mode": {
    "name": "ipython",
    "version": 3
   },
   "file_extension": ".py",
   "mimetype": "text/x-python",
   "name": "python",
   "nbconvert_exporter": "python",
   "pygments_lexer": "ipython3",
   "version": "3.11.2"
  },
  "orig_nbformat": 4
 },
 "nbformat": 4,
 "nbformat_minor": 2
}
