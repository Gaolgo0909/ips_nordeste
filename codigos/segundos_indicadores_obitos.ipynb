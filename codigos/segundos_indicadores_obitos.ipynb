{
 "cells": [
  {
   "cell_type": "code",
   "execution_count": 1,
   "metadata": {},
   "outputs": [],
   "source": [
    "import pandas as pd\n",
    "\n",
    "paths_inputs = \"C:/Users/gaolg/OneDrive/Área de Trabalho/projetos/ips_nordeste/bases_tratadas/\"\n",
    "\n",
    "paths_outputs = \"C:/Users/gaolg/OneDrive/Área de Trabalho/projetos/ips_nordeste/Indicadores/segundos/\""
   ]
  },
  {
   "cell_type": "code",
   "execution_count": 2,
   "metadata": {},
   "outputs": [],
   "source": [
    "populacao = pd.read_parquet(paths_inputs+\"populacao_tratados.parquet\")\n",
    "populacao = populacao[[\"cod_municipio\", \"pop_2021\"]]\n",
    "\n",
    "obitos = pd.read_parquet(paths_inputs + \"obitos_tratados_microdados.parquet\")\n",
    "obitos_raw = pd.read_parquet(paths_inputs + \"obitos_tratados.parquet\")\n",
    "\n",
    "dicio_cdi = pd.read_csv(\"C:/Users/gaolg/OneDrive/Área de Trabalho/projetos/ips_nordeste/Dicionario, Documentanção e Codigos/dicionario_cid_10.csv\")"
   ]
  },
  {
   "attachments": {},
   "cell_type": "markdown",
   "metadata": {},
   "source": [
    "#### Obitos Diabetes Mellitus 100k habitantes"
   ]
  },
  {
   "cell_type": "code",
   "execution_count": 58,
   "metadata": {},
   "outputs": [],
   "source": [
    "dia = dicio_cdi.query(\"grupo == 'E10-E14'\")\n",
    "list_cat_dia  = dia[\"categoria\"].unique()\n",
    "list_sub_cat_dia  = dia[\"sub_categoria\"].unique()\n",
    "list_full_dia = list(list_cat_dia) + list(list_sub_cat_dia)"
   ]
  },
  {
   "cell_type": "code",
   "execution_count": 59,
   "metadata": {},
   "outputs": [],
   "source": [
    "obitos_diabetes_mellitus = obitos[obitos[\"causa\"].isin(list_full_dia)]"
   ]
  },
  {
   "cell_type": "code",
   "execution_count": 60,
   "metadata": {},
   "outputs": [],
   "source": [
    "obitos_diabetes_mellitus  = obitos_diabetes_mellitus.drop_duplicates(\"id\")\n",
    "obitos_diabetes_mellitus = obitos_diabetes_mellitus.groupby(\"id_municipio_ocorrencia\", as_index=False).count()\n",
    "obitos_diabetes_mellitus = obitos_diabetes_mellitus[[\"id_municipio_ocorrencia\", \"id\"]]\n",
    "obitos_diabetes_mellitus.rename(columns={\"id_municipio_ocorrencia\": \"cod_municipio\", \"id\": \"obitos_diabetes_mellitus\"}, inplace=True)"
   ]
  },
  {
   "cell_type": "code",
   "execution_count": 61,
   "metadata": {},
   "outputs": [],
   "source": [
    "obitos_diabetes_mellitus = obitos_diabetes_mellitus.merge(\n",
    "    populacao, on=\"cod_municipio\", how=\"left\")\n",
    "obitos_diabetes_mellitus[\"obitos_diabetes_mellitus_100k\"] = obitos_diabetes_mellitus[\"obitos_diabetes_mellitus\"]*100000 / obitos_diabetes_mellitus[\"pop_2021\"] "
   ]
  },
  {
   "cell_type": "code",
   "execution_count": 38,
   "metadata": {},
   "outputs": [],
   "source": [
    "obitos_diabetes_mellitus.to_csv(paths_outputs+\"obitos_diabetes_mellitus.csv\", index=False)"
   ]
  },
  {
   "attachments": {},
   "cell_type": "markdown",
   "metadata": {},
   "source": [
    "#### Obitos Cancer 100k habitantes"
   ]
  },
  {
   "cell_type": "code",
   "execution_count": 69,
   "metadata": {},
   "outputs": [],
   "source": [
    "cancer = dicio_cdi.query(\"grupo == 'C81-C96'\")\n",
    "list_cat_cancer  = cancer[\"categoria\"].unique()\n",
    "list_sub_cat_cancer  = cancer[\"sub_categoria\"].unique()\n",
    "list_full_cancer = list(list_cat_cancer) + list(list_sub_cat_cancer)"
   ]
  },
  {
   "cell_type": "code",
   "execution_count": 71,
   "metadata": {},
   "outputs": [],
   "source": [
    "obitos_cancer = obitos[obitos[\"causa\"].isin(list_full_cancer)]\n",
    "obitos_cancer  = obitos_cancer.drop_duplicates(\"id\")\n",
    "obitos_cancer = obitos_cancer.groupby(\"id_municipio_ocorrencia\", as_index=False).count()\n",
    "obitos_cancer = obitos_cancer[[\"id_municipio_ocorrencia\", \"id\"]]\n",
    "obitos_cancer.rename(columns={\"id_municipio_ocorrencia\": \"cod_municipio\", \"id\": \"obitos_cancer\"}, inplace=True)"
   ]
  },
  {
   "cell_type": "code",
   "execution_count": 72,
   "metadata": {},
   "outputs": [],
   "source": [
    "obitos_cancer = obitos_cancer.merge(\n",
    "    populacao, on=\"cod_municipio\", how=\"left\")\n",
    "obitos_cancer[\"obitos_cancer_100k\"] = obitos_cancer[\"obitos_cancer\"]*100000 / obitos_cancer[\"pop_2021\"] \n",
    "obitos_cancer.to_csv(paths_outputs+\"obitos_cancer.csv\", index=False)"
   ]
  },
  {
   "attachments": {},
   "cell_type": "markdown",
   "metadata": {},
   "source": [
    "#### Obitos doencas respiratorias 100k habitantes"
   ]
  },
  {
   "cell_type": "code",
   "execution_count": 82,
   "metadata": {},
   "outputs": [],
   "source": [
    "resp = dicio_cdi.query(\"capitulo == 'X'\")\n",
    "list_cat_resp  = resp[\"categoria\"].unique()\n",
    "list_sub_cat_resp  = resp[\"sub_categoria\"].unique()\n",
    "list_full_resp = list(list_cat_resp) + list(list_sub_cat_resp)"
   ]
  },
  {
   "cell_type": "code",
   "execution_count": 83,
   "metadata": {},
   "outputs": [],
   "source": [
    "obitos_resp = obitos[obitos[\"causa\"].isin(list_full_resp)]\n",
    "obitos_resp  = obitos_resp.drop_duplicates(\"id\")\n",
    "obitos_resp = obitos_resp.groupby(\"id_municipio_ocorrencia\", as_index=False).count()\n",
    "obitos_resp = obitos_resp[[\"id_municipio_ocorrencia\", \"id\"]]\n",
    "obitos_resp.rename(columns={\"id_municipio_ocorrencia\": \"cod_municipio\", \"id\": \"obitos_resp\"}, inplace=True)"
   ]
  },
  {
   "cell_type": "code",
   "execution_count": 84,
   "metadata": {},
   "outputs": [],
   "source": [
    "obitos_resp = obitos_resp.merge(\n",
    "    populacao, on=\"cod_municipio\", how=\"left\")\n",
    "obitos_resp[\"obitos_resp_100k\"] = obitos_resp[\"obitos_resp\"]*100000 / obitos_resp[\"pop_2021\"] \n",
    "obitos_resp.to_csv(paths_outputs+\"obitos_doencas_respiratorias.csv\", index=False)"
   ]
  },
  {
   "attachments": {},
   "cell_type": "markdown",
   "metadata": {},
   "source": [
    "#### Obitos aparelho circulatorio 100k habitantes"
   ]
  },
  {
   "cell_type": "code",
   "execution_count": 107,
   "metadata": {},
   "outputs": [],
   "source": [
    "circulatorio = dicio_cdi.query(\"capitulo == 'IX'\")\n",
    "list_cat_circulatorio  = circulatorio[\"categoria\"].unique()\n",
    "list_sub_cat_circulatorio  = circulatorio[\"sub_categoria\"].unique()\n",
    "list_full_circulatorio = list(list_cat_circulatorio) + list(list_sub_cat_circulatorio)"
   ]
  },
  {
   "cell_type": "code",
   "execution_count": 108,
   "metadata": {},
   "outputs": [],
   "source": [
    "obitos_circulatorio = obitos[obitos[\"causa\"].isin(list_full_circulatorio)]\n",
    "obitos_circulatorio  = obitos_circulatorio.drop_duplicates(\"id\")\n",
    "obitos_circulatorio = obitos_circulatorio.groupby(\"id_municipio_ocorrencia\", as_index=False).count()\n",
    "obitos_circulatorio = obitos_circulatorio[[\"id_municipio_ocorrencia\", \"id\"]]\n",
    "obitos_circulatorio.rename(columns={\"id_municipio_ocorrencia\": \"cod_municipio\", \"id\": \"obitos_circulatorio\"}, inplace=True)"
   ]
  },
  {
   "cell_type": "code",
   "execution_count": 109,
   "metadata": {},
   "outputs": [],
   "source": [
    "obitos_circulatorio = obitos_circulatorio.merge(\n",
    "    populacao, on=\"cod_municipio\", how=\"left\")\n",
    "obitos_circulatorio[\"obitos_circulatorio_100k\"] = obitos_circulatorio[\"obitos_circulatorio\"]*100000 / obitos_circulatorio[\"pop_2021\"] \n",
    "obitos_circulatorio.to_csv(paths_outputs+\"obitos_aparelho_circulatorio.csv\", index=False)"
   ]
  },
  {
   "attachments": {},
   "cell_type": "markdown",
   "metadata": {},
   "source": [
    "#### Suicidio 100k habitantes"
   ]
  },
  {
   "cell_type": "code",
   "execution_count": 112,
   "metadata": {},
   "outputs": [],
   "source": [
    "sucicidios = obitos.query(\"circunstancia == '2'\")\n",
    "sucicidios  = sucicidios.drop_duplicates(\"id\")\n",
    "sucicidios = sucicidios.groupby(\"id_municipio_ocorrencia\", as_index=False).count()\n",
    "sucicidios = sucicidios[[\"id_municipio_ocorrencia\", \"id\"]]\n",
    "sucicidios.rename(columns={\"id_municipio_ocorrencia\": \"cod_municipio\", \"id\": \"sucicidios\"}, inplace=True)"
   ]
  },
  {
   "cell_type": "code",
   "execution_count": 113,
   "metadata": {},
   "outputs": [],
   "source": [
    "sucicidios = sucicidios.merge(\n",
    "    populacao, on=\"cod_municipio\", how=\"left\")\n",
    "sucicidios[\"sucicidios_100k\"] = sucicidios[\"sucicidios\"]*100000 / sucicidios[\"pop_2021\"] \n",
    "sucicidios.to_csv(paths_outputs+\"sucidios.csv\", index=False)"
   ]
  }
 ],
 "metadata": {
  "kernelspec": {
   "display_name": "Python 3",
   "language": "python",
   "name": "python3"
  },
  "language_info": {
   "codemirror_mode": {
    "name": "ipython",
    "version": 3
   },
   "file_extension": ".py",
   "mimetype": "text/x-python",
   "name": "python",
   "nbconvert_exporter": "python",
   "pygments_lexer": "ipython3",
   "version": "3.11.2"
  },
  "orig_nbformat": 4
 },
 "nbformat": 4,
 "nbformat_minor": 2
}
