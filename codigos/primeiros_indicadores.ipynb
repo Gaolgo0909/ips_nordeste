{
 "cells": [
  {
   "cell_type": "code",
   "execution_count": 2,
   "metadata": {},
   "outputs": [],
   "source": [
    "import pandas as pd"
   ]
  },
  {
   "cell_type": "code",
   "execution_count": 29,
   "metadata": {},
   "outputs": [],
   "source": [
    "dfs = []\n",
    "for i in range(142):\n",
    "    path = f\"C:/Users/gaolg/OneDrive/Área de Trabalho/IPS Nordeste/bases_tratadas/alimentacao/alimentacao_2021.parquet/part.{i}.parquet\"\n",
    "    df = pd.read_parquet(path)\n",
    "    df[\"DS_IMC\"] = df[\"DS_IMC\"].dropna().apply(lambda x: x.replace(\",\",\".\")).astype(float)\n",
    "    df= df[[\"CO_MUNICIPIO_IBGE\", \"DS_IMC\"]]\n",
    "    df = df[[\"CO_MUNICIPIO_IBGE\", \"DS_IMC\"]].query(\"DS_IMC<25\").groupby(\"CO_MUNICIPIO_IBGE\").count().reset_index()\n",
    "    df = df.rename(columns={\"DS_IMC\":\"sub_nutricao\", \"CO_MUNICIPIO_IBGE\":\"cod_municipio\"})\n",
    "    dfs.append(df)\n",
    "    del df\n",
    "\n",
    "alimentacao = pd.concat(dfs)\n",
    "alimentacao[\"cod_municipio\"] = alimentacao[\"cod_municipio\"].astype(str)\n",
    "alimentacao = alimentacao.groupby(\"cod_municipio\").sum().reset_index()"
   ]
  },
  {
   "cell_type": "code",
   "execution_count": 57,
   "metadata": {},
   "outputs": [],
   "source": [
    "subnutricao = pd.merge(alimentacao, populacao, on=\"cod_municipio\", how=\"left\")\n",
    "subnutricao[\"sub_nutricao_porcentagem\"] = subnutricao[\"sub_nutricao\"]/subnutricao[\"pop_2021\"]\n",
    "\n",
    "subnutricao.to_csv(\"C:/Users/gaolg/OneDrive/Área de Trabalho/IPS Nordeste/bases_tratadas/subnutricao.csv\", index=False)"
   ]
  },
  {
   "attachments": {},
   "cell_type": "markdown",
   "metadata": {},
   "source": [
    "#### Abastecimento água"
   ]
  },
  {
   "cell_type": "code",
   "execution_count": 27,
   "metadata": {},
   "outputs": [],
   "source": [
    "path_to_output = \"C:/Users/gaolg/OneDrive/Área de Trabalho/projetos/ips_nordeste/Indicadores/primeiros\""
   ]
  },
  {
   "cell_type": "code",
   "execution_count": 5,
   "metadata": {},
   "outputs": [],
   "source": [
    "import pandas as pd\n",
    "\n",
    "agua_h_raw = pd.read_excel(\"C:/Users/gaolg/OneDrive/Área de Trabalho/projetos/ips_nordeste/Necessidades Humanas Básicas/agua/agua_serie_historica.xlsx\")"
   ]
  },
  {
   "cell_type": "code",
   "execution_count": 6,
   "metadata": {},
   "outputs": [],
   "source": [
    "agua_h = agua_h_raw[[\"Código do Município\", \"Ano de Referência\", \"AG001 - População total atendida com abastecimento de água\"]]\n",
    "agua_h = agua_h.rename(columns={\"Código do Município\":\"cod_municipio\", \"Ano de Referência\":\"ano\", \"AG001 - População total atendida com abastecimento de água\":\"pop_agua\"})"
   ]
  },
  {
   "cell_type": "code",
   "execution_count": 8,
   "metadata": {},
   "outputs": [],
   "source": [
    "agua_h = agua_h.query(\"ano==2021\").groupby(\"cod_municipio\", as_index=False).sum()"
   ]
  },
  {
   "cell_type": "code",
   "execution_count": 9,
   "metadata": {},
   "outputs": [],
   "source": [
    "agua_h = agua_h[[\"cod_municipio\", \"pop_agua\"]]\n",
    "agua_h[\"cod_municipio\"] = agua_h[\"cod_municipio\"].astype(str)"
   ]
  },
  {
   "cell_type": "code",
   "execution_count": 11,
   "metadata": {},
   "outputs": [],
   "source": [
    "paths_inputs = \"C:/Users/gaolg/OneDrive/Área de Trabalho/projetos/ips_nordeste/bases_tratadas/\"\n",
    "populacao = pd.read_parquet(paths_inputs+\"populacao_tratados.parquet\")\n",
    "populacao = populacao[[\"cod_municipio\", \"pop_2021\"]]"
   ]
  },
  {
   "cell_type": "code",
   "execution_count": 17,
   "metadata": {},
   "outputs": [],
   "source": [
    "agua_h.rename(columns={\"cod_municipio\":\"cod_municipio_6\"}, inplace=True)"
   ]
  },
  {
   "cell_type": "code",
   "execution_count": 16,
   "metadata": {},
   "outputs": [],
   "source": [
    "populacao[\"cod_municipio_6\"] = populacao[\"cod_municipio\"].apply(lambda x: x[:6])"
   ]
  },
  {
   "cell_type": "code",
   "execution_count": 21,
   "metadata": {},
   "outputs": [],
   "source": [
    "agua_h = agua_h.merge(populacao, on=\"cod_municipio_6\", how=\"left\").drop(columns=[\"cod_municipio_6\"])"
   ]
  },
  {
   "cell_type": "code",
   "execution_count": 28,
   "metadata": {},
   "outputs": [],
   "source": [
    "agua_h[\"pop_agua_porcentagem\"] = agua_h[\"pop_agua\"]/agua_h[\"pop_2021\"]\n",
    "agua_h.to_csv(path_to_output +\"abastecimento_agua.csv\", index=False)"
   ]
  },
  {
   "attachments": {},
   "cell_type": "markdown",
   "metadata": {},
   "source": [
    "## Indicadores cad_unico"
   ]
  },
  {
   "cell_type": "code",
   "execution_count": 114,
   "metadata": {},
   "outputs": [
    {
     "name": "stderr",
     "output_type": "stream",
     "text": [
      "C:\\Users\\gaolg\\AppData\\Local\\Temp\\ipykernel_9924\\704081134.py:2: DtypeWarning: Columns (18,19) have mixed types. Specify dtype option on import or set low_memory=False.\n",
      "  cad = pd.read_csv(path_to_cad+\"cad_unico_total.csv\",  encoding=\"latin1\")\n"
     ]
    }
   ],
   "source": [
    "path_to_cad = \"C:/Users/gaolg/OneDrive/Área de Trabalho/IPS Nordeste/Necessidades Humanas Básicas/cad_unico/\"\n",
    "cad = pd.read_csv(path_to_cad+\"cad_unico_total.csv\",  encoding=\"latin1\")\n",
    "cad = cad[[\"Código\", \"Referência\", \"Quantidade total de famílias cadastradas\" ]]\n",
    "cad = cad.rename(columns={\"Código\":\"cod_municipio\",\n",
    "                     \"Referência\":\"ano\",\n",
    "                        \"Quantidade total de famílias cadastradas\":\"familias_cadastradas\"})\n",
    "\n",
    "cad[\"ano\"] =  cad[\"ano\"].apply(lambda x: int(x[-4:]))\n",
    "\n",
    "cad = cad.query(\"ano==2023\")\n",
    "cad = cad[[\"cod_municipio\", \"familias_cadastradas\"]]\n",
    "cad = cad.groupby(\"cod_municipio\").sum().reset_index()"
   ]
  },
  {
   "attachments": {},
   "cell_type": "markdown",
   "metadata": {},
   "source": [
    "##### Agua"
   ]
  },
  {
   "cell_type": "code",
   "execution_count": 150,
   "metadata": {},
   "outputs": [],
   "source": [
    "path_to_output = \"C:/Users/gaolg/OneDrive/Área de Trabalho/IPS Nordeste/Indicadores/primeiros/\""
   ]
  },
  {
   "cell_type": "code",
   "execution_count": 141,
   "metadata": {},
   "outputs": [],
   "source": [
    "agua = pd.read_csv(path_to_cad+\"/agua.csv\", encoding=\"latin1\")\n",
    "agua.rename(columns={\"Código\":\"cod_municipio\",\n",
    "                     \"Referência\":\"ano\",\n",
    "                     agua.columns[4]:\"rede_geral\",\n",
    "                     agua.columns[5]:\"poco_nascente\",\n",
    "                     agua.columns[6]:\"cisterna\"}, inplace=True)\n",
    "\n",
    "agua = agua[[\"cod_municipio\", \"ano\", \"rede_geral\", \"poco_nascente\", \"cisterna\"]]\n",
    "agua[\"ano\"] =  agua[\"ano\"].apply(lambda x: int(x[-4:]))\n",
    "\n",
    "agua = agua.query(\"ano==2023\")\n",
    "agua[\"agua_total\"] = agua[\"rede_geral\"]+agua[\"poco_nascente\"]+agua[\"cisterna\"]\n",
    "\n",
    "agua = agua[[\"cod_municipio\", \"agua_total\"]]\n",
    "agua = agua.groupby(\"cod_municipio\").sum().reset_index()"
   ]
  },
  {
   "cell_type": "code",
   "execution_count": 142,
   "metadata": {},
   "outputs": [],
   "source": [
    "agua = agua.merge(cad, on=\"cod_municipio\", how=\"left\")\n",
    "agua[\"agua_porcentagem\"] = agua[\"agua_total\"]/agua[\"familias_cadastradas\"]"
   ]
  },
  {
   "cell_type": "code",
   "execution_count": 143,
   "metadata": {},
   "outputs": [],
   "source": [
    "agua.to_csv(path_to_output + \"cad_unico_agua.csv\", index=False)"
   ]
  },
  {
   "attachments": {},
   "cell_type": "markdown",
   "metadata": {},
   "source": [
    "#### iluminicacao"
   ]
  },
  {
   "cell_type": "code",
   "execution_count": 126,
   "metadata": {},
   "outputs": [],
   "source": [
    "iluminacao = pd.read_csv(path_to_cad+\"/iluminacao.csv\", encoding=\"latin1\")\n",
    "iluminacao.rename(columns={\"Código\":\"cod_municipio\",\n",
    "                        \"Referência\":\"ano\",\n",
    "                        iluminacao.columns[4]:\"medidor_proprio\",\n",
    "                        iluminacao.columns[5]:\"medidior_geral\",\n",
    "                        iluminacao.columns[6]:\"sem_medidor\"},\n",
    "                inplace=True)\n",
    "\n",
    "iluminacao = iluminacao[[\"cod_municipio\", \"ano\", \"medidor_proprio\", \"medidior_geral\", \"sem_medidor\"]]\n",
    "iluminacao[\"ano\"] =  iluminacao[\"ano\"].apply(lambda x: int(x[-4:]))\n",
    "iluminacao = iluminacao.query(\"ano==2023\")\n",
    "\n",
    "iluminacao[\"iluminacao_total\"] = iluminacao[\"medidor_proprio\"]+iluminacao[\"medidior_geral\"]+iluminacao[\"sem_medidor\"]\n",
    "iluminacao = iluminacao[[\"cod_municipio\", \"iluminacao_total\"]]\n",
    "iluminacao = iluminacao.groupby(\"cod_municipio\").sum().reset_index()"
   ]
  },
  {
   "cell_type": "code",
   "execution_count": 128,
   "metadata": {},
   "outputs": [],
   "source": [
    "iluminacao = iluminacao.merge(cad, on=\"cod_municipio\", how=\"left\")\n",
    "iluminacao[\"iluminacao_porcentagem\"] = iluminacao[\"iluminacao_total\"]/iluminacao[\"familias_cadastradas\"]"
   ]
  },
  {
   "cell_type": "code",
   "execution_count": 130,
   "metadata": {},
   "outputs": [],
   "source": [
    "iluminacao.to_csv(\"cad_unico_iluminacao.csv\", index=False)"
   ]
  },
  {
   "attachments": {},
   "cell_type": "markdown",
   "metadata": {},
   "source": [
    "#### sanitario"
   ]
  },
  {
   "cell_type": "code",
   "execution_count": 152,
   "metadata": {},
   "outputs": [
    {
     "ename": "FileNotFoundError",
     "evalue": "[Errno 2] No such file or directory: 'C:/Users/gaolg/OneDrive/Área de Trabalho/IPS Nordeste/Indicadores/primeiros/cad_unico_sanitario.csv'",
     "output_type": "error",
     "traceback": [
      "\u001b[1;31m---------------------------------------------------------------------------\u001b[0m",
      "\u001b[1;31mFileNotFoundError\u001b[0m                         Traceback (most recent call last)",
      "Cell \u001b[1;32mIn[152], line 1\u001b[0m\n\u001b[1;32m----> 1\u001b[0m sanitario \u001b[39m=\u001b[39m pd\u001b[39m.\u001b[39;49mread_csv(path_to_output\u001b[39m+\u001b[39;49m\u001b[39m\"\u001b[39;49m\u001b[39mcad_unico_sanitario.csv\u001b[39;49m\u001b[39m\"\u001b[39;49m, encoding\u001b[39m=\u001b[39;49m\u001b[39m\"\u001b[39;49m\u001b[39mlatin1\u001b[39;49m\u001b[39m\"\u001b[39;49m)\n",
      "File \u001b[1;32mc:\\Users\\gaolg\\AppData\\Local\\Programs\\Python\\Python311\\Lib\\site-packages\\pandas\\io\\parsers\\readers.py:912\u001b[0m, in \u001b[0;36mread_csv\u001b[1;34m(filepath_or_buffer, sep, delimiter, header, names, index_col, usecols, dtype, engine, converters, true_values, false_values, skipinitialspace, skiprows, skipfooter, nrows, na_values, keep_default_na, na_filter, verbose, skip_blank_lines, parse_dates, infer_datetime_format, keep_date_col, date_parser, date_format, dayfirst, cache_dates, iterator, chunksize, compression, thousands, decimal, lineterminator, quotechar, quoting, doublequote, escapechar, comment, encoding, encoding_errors, dialect, on_bad_lines, delim_whitespace, low_memory, memory_map, float_precision, storage_options, dtype_backend)\u001b[0m\n\u001b[0;32m    899\u001b[0m kwds_defaults \u001b[39m=\u001b[39m _refine_defaults_read(\n\u001b[0;32m    900\u001b[0m     dialect,\n\u001b[0;32m    901\u001b[0m     delimiter,\n\u001b[1;32m   (...)\u001b[0m\n\u001b[0;32m    908\u001b[0m     dtype_backend\u001b[39m=\u001b[39mdtype_backend,\n\u001b[0;32m    909\u001b[0m )\n\u001b[0;32m    910\u001b[0m kwds\u001b[39m.\u001b[39mupdate(kwds_defaults)\n\u001b[1;32m--> 912\u001b[0m \u001b[39mreturn\u001b[39;00m _read(filepath_or_buffer, kwds)\n",
      "File \u001b[1;32mc:\\Users\\gaolg\\AppData\\Local\\Programs\\Python\\Python311\\Lib\\site-packages\\pandas\\io\\parsers\\readers.py:577\u001b[0m, in \u001b[0;36m_read\u001b[1;34m(filepath_or_buffer, kwds)\u001b[0m\n\u001b[0;32m    574\u001b[0m _validate_names(kwds\u001b[39m.\u001b[39mget(\u001b[39m\"\u001b[39m\u001b[39mnames\u001b[39m\u001b[39m\"\u001b[39m, \u001b[39mNone\u001b[39;00m))\n\u001b[0;32m    576\u001b[0m \u001b[39m# Create the parser.\u001b[39;00m\n\u001b[1;32m--> 577\u001b[0m parser \u001b[39m=\u001b[39m TextFileReader(filepath_or_buffer, \u001b[39m*\u001b[39;49m\u001b[39m*\u001b[39;49mkwds)\n\u001b[0;32m    579\u001b[0m \u001b[39mif\u001b[39;00m chunksize \u001b[39mor\u001b[39;00m iterator:\n\u001b[0;32m    580\u001b[0m     \u001b[39mreturn\u001b[39;00m parser\n",
      "File \u001b[1;32mc:\\Users\\gaolg\\AppData\\Local\\Programs\\Python\\Python311\\Lib\\site-packages\\pandas\\io\\parsers\\readers.py:1407\u001b[0m, in \u001b[0;36mTextFileReader.__init__\u001b[1;34m(self, f, engine, **kwds)\u001b[0m\n\u001b[0;32m   1404\u001b[0m     \u001b[39mself\u001b[39m\u001b[39m.\u001b[39moptions[\u001b[39m\"\u001b[39m\u001b[39mhas_index_names\u001b[39m\u001b[39m\"\u001b[39m] \u001b[39m=\u001b[39m kwds[\u001b[39m\"\u001b[39m\u001b[39mhas_index_names\u001b[39m\u001b[39m\"\u001b[39m]\n\u001b[0;32m   1406\u001b[0m \u001b[39mself\u001b[39m\u001b[39m.\u001b[39mhandles: IOHandles \u001b[39m|\u001b[39m \u001b[39mNone\u001b[39;00m \u001b[39m=\u001b[39m \u001b[39mNone\u001b[39;00m\n\u001b[1;32m-> 1407\u001b[0m \u001b[39mself\u001b[39m\u001b[39m.\u001b[39m_engine \u001b[39m=\u001b[39m \u001b[39mself\u001b[39;49m\u001b[39m.\u001b[39;49m_make_engine(f, \u001b[39mself\u001b[39;49m\u001b[39m.\u001b[39;49mengine)\n",
      "File \u001b[1;32mc:\\Users\\gaolg\\AppData\\Local\\Programs\\Python\\Python311\\Lib\\site-packages\\pandas\\io\\parsers\\readers.py:1661\u001b[0m, in \u001b[0;36mTextFileReader._make_engine\u001b[1;34m(self, f, engine)\u001b[0m\n\u001b[0;32m   1659\u001b[0m     \u001b[39mif\u001b[39;00m \u001b[39m\"\u001b[39m\u001b[39mb\u001b[39m\u001b[39m\"\u001b[39m \u001b[39mnot\u001b[39;00m \u001b[39min\u001b[39;00m mode:\n\u001b[0;32m   1660\u001b[0m         mode \u001b[39m+\u001b[39m\u001b[39m=\u001b[39m \u001b[39m\"\u001b[39m\u001b[39mb\u001b[39m\u001b[39m\"\u001b[39m\n\u001b[1;32m-> 1661\u001b[0m \u001b[39mself\u001b[39m\u001b[39m.\u001b[39mhandles \u001b[39m=\u001b[39m get_handle(\n\u001b[0;32m   1662\u001b[0m     f,\n\u001b[0;32m   1663\u001b[0m     mode,\n\u001b[0;32m   1664\u001b[0m     encoding\u001b[39m=\u001b[39;49m\u001b[39mself\u001b[39;49m\u001b[39m.\u001b[39;49moptions\u001b[39m.\u001b[39;49mget(\u001b[39m\"\u001b[39;49m\u001b[39mencoding\u001b[39;49m\u001b[39m\"\u001b[39;49m, \u001b[39mNone\u001b[39;49;00m),\n\u001b[0;32m   1665\u001b[0m     compression\u001b[39m=\u001b[39;49m\u001b[39mself\u001b[39;49m\u001b[39m.\u001b[39;49moptions\u001b[39m.\u001b[39;49mget(\u001b[39m\"\u001b[39;49m\u001b[39mcompression\u001b[39;49m\u001b[39m\"\u001b[39;49m, \u001b[39mNone\u001b[39;49;00m),\n\u001b[0;32m   1666\u001b[0m     memory_map\u001b[39m=\u001b[39;49m\u001b[39mself\u001b[39;49m\u001b[39m.\u001b[39;49moptions\u001b[39m.\u001b[39;49mget(\u001b[39m\"\u001b[39;49m\u001b[39mmemory_map\u001b[39;49m\u001b[39m\"\u001b[39;49m, \u001b[39mFalse\u001b[39;49;00m),\n\u001b[0;32m   1667\u001b[0m     is_text\u001b[39m=\u001b[39;49mis_text,\n\u001b[0;32m   1668\u001b[0m     errors\u001b[39m=\u001b[39;49m\u001b[39mself\u001b[39;49m\u001b[39m.\u001b[39;49moptions\u001b[39m.\u001b[39;49mget(\u001b[39m\"\u001b[39;49m\u001b[39mencoding_errors\u001b[39;49m\u001b[39m\"\u001b[39;49m, \u001b[39m\"\u001b[39;49m\u001b[39mstrict\u001b[39;49m\u001b[39m\"\u001b[39;49m),\n\u001b[0;32m   1669\u001b[0m     storage_options\u001b[39m=\u001b[39;49m\u001b[39mself\u001b[39;49m\u001b[39m.\u001b[39;49moptions\u001b[39m.\u001b[39;49mget(\u001b[39m\"\u001b[39;49m\u001b[39mstorage_options\u001b[39;49m\u001b[39m\"\u001b[39;49m, \u001b[39mNone\u001b[39;49;00m),\n\u001b[0;32m   1670\u001b[0m )\n\u001b[0;32m   1671\u001b[0m \u001b[39massert\u001b[39;00m \u001b[39mself\u001b[39m\u001b[39m.\u001b[39mhandles \u001b[39mis\u001b[39;00m \u001b[39mnot\u001b[39;00m \u001b[39mNone\u001b[39;00m\n\u001b[0;32m   1672\u001b[0m f \u001b[39m=\u001b[39m \u001b[39mself\u001b[39m\u001b[39m.\u001b[39mhandles\u001b[39m.\u001b[39mhandle\n",
      "File \u001b[1;32mc:\\Users\\gaolg\\AppData\\Local\\Programs\\Python\\Python311\\Lib\\site-packages\\pandas\\io\\common.py:859\u001b[0m, in \u001b[0;36mget_handle\u001b[1;34m(path_or_buf, mode, encoding, compression, memory_map, is_text, errors, storage_options)\u001b[0m\n\u001b[0;32m    854\u001b[0m \u001b[39melif\u001b[39;00m \u001b[39misinstance\u001b[39m(handle, \u001b[39mstr\u001b[39m):\n\u001b[0;32m    855\u001b[0m     \u001b[39m# Check whether the filename is to be opened in binary mode.\u001b[39;00m\n\u001b[0;32m    856\u001b[0m     \u001b[39m# Binary mode does not support 'encoding' and 'newline'.\u001b[39;00m\n\u001b[0;32m    857\u001b[0m     \u001b[39mif\u001b[39;00m ioargs\u001b[39m.\u001b[39mencoding \u001b[39mand\u001b[39;00m \u001b[39m\"\u001b[39m\u001b[39mb\u001b[39m\u001b[39m\"\u001b[39m \u001b[39mnot\u001b[39;00m \u001b[39min\u001b[39;00m ioargs\u001b[39m.\u001b[39mmode:\n\u001b[0;32m    858\u001b[0m         \u001b[39m# Encoding\u001b[39;00m\n\u001b[1;32m--> 859\u001b[0m         handle \u001b[39m=\u001b[39m \u001b[39mopen\u001b[39m(\n\u001b[0;32m    860\u001b[0m             handle,\n\u001b[0;32m    861\u001b[0m             ioargs\u001b[39m.\u001b[39mmode,\n\u001b[0;32m    862\u001b[0m             encoding\u001b[39m=\u001b[39mioargs\u001b[39m.\u001b[39mencoding,\n\u001b[0;32m    863\u001b[0m             errors\u001b[39m=\u001b[39merrors,\n\u001b[0;32m    864\u001b[0m             newline\u001b[39m=\u001b[39m\u001b[39m\"\u001b[39m\u001b[39m\"\u001b[39m,\n\u001b[0;32m    865\u001b[0m         )\n\u001b[0;32m    866\u001b[0m     \u001b[39melse\u001b[39;00m:\n\u001b[0;32m    867\u001b[0m         \u001b[39m# Binary mode\u001b[39;00m\n\u001b[0;32m    868\u001b[0m         handle \u001b[39m=\u001b[39m \u001b[39mopen\u001b[39m(handle, ioargs\u001b[39m.\u001b[39mmode)\n",
      "\u001b[1;31mFileNotFoundError\u001b[0m: [Errno 2] No such file or directory: 'C:/Users/gaolg/OneDrive/Área de Trabalho/IPS Nordeste/Indicadores/primeiros/cad_unico_sanitario.csv'"
     ]
    }
   ],
   "source": [
    "sanitario = pd.read_csv(path_to_cad+\"/sanitario.csv\", encoding=\"latin1\")"
   ]
  },
  {
   "cell_type": "code",
   "execution_count": 147,
   "metadata": {},
   "outputs": [
    {
     "data": {
      "text/html": [
       "<div>\n",
       "<style scoped>\n",
       "    .dataframe tbody tr th:only-of-type {\n",
       "        vertical-align: middle;\n",
       "    }\n",
       "\n",
       "    .dataframe tbody tr th {\n",
       "        vertical-align: top;\n",
       "    }\n",
       "\n",
       "    .dataframe thead th {\n",
       "        text-align: right;\n",
       "    }\n",
       "</style>\n",
       "<table border=\"1\" class=\"dataframe\">\n",
       "  <thead>\n",
       "    <tr style=\"text-align: right;\">\n",
       "      <th></th>\n",
       "      <th>Quantidade de famílias NÃO beneficiárias do Programa Bolsa Família cadastradas em domicílios com escoamento sanitário por rede coletora de esgoto ou pluvial</th>\n",
       "      <th>Quantidade de famílias NÃO beneficiárias do Programa Bolsa Família cadastradas em domicílios com escoamento sanitário por fossa séptica</th>\n",
       "      <th>Quantidade de famílias BENEFICIÁRIAS do Programa Bolsa Família cadastradas em domicílios com escoamento sanitário por rede coletora de esgoto ou pluvial</th>\n",
       "      <th>Quantidade de famílias BENEFICIÁRIAS do Programa Bolsa Família cadastradas em domicílios com escoamento sanitário por fossa séptica</th>\n",
       "    </tr>\n",
       "  </thead>\n",
       "  <tbody>\n",
       "    <tr>\n",
       "      <th>0</th>\n",
       "      <td>13</td>\n",
       "      <td>606</td>\n",
       "      <td>10</td>\n",
       "      <td>989</td>\n",
       "    </tr>\n",
       "    <tr>\n",
       "      <th>1</th>\n",
       "      <td>12</td>\n",
       "      <td>701</td>\n",
       "      <td>10</td>\n",
       "      <td>961</td>\n",
       "    </tr>\n",
       "    <tr>\n",
       "      <th>2</th>\n",
       "      <td>46</td>\n",
       "      <td>950</td>\n",
       "      <td>23</td>\n",
       "      <td>1045</td>\n",
       "    </tr>\n",
       "    <tr>\n",
       "      <th>3</th>\n",
       "      <td>14</td>\n",
       "      <td>668</td>\n",
       "      <td>14</td>\n",
       "      <td>987</td>\n",
       "    </tr>\n",
       "    <tr>\n",
       "      <th>4</th>\n",
       "      <td>309</td>\n",
       "      <td>844</td>\n",
       "      <td>162</td>\n",
       "      <td>1049</td>\n",
       "    </tr>\n",
       "    <tr>\n",
       "      <th>...</th>\n",
       "      <td>...</td>\n",
       "      <td>...</td>\n",
       "      <td>...</td>\n",
       "      <td>...</td>\n",
       "    </tr>\n",
       "    <tr>\n",
       "      <th>389895</th>\n",
       "      <td>15</td>\n",
       "      <td>6</td>\n",
       "      <td>15</td>\n",
       "      <td>7</td>\n",
       "    </tr>\n",
       "    <tr>\n",
       "      <th>389896</th>\n",
       "      <td>15</td>\n",
       "      <td>6</td>\n",
       "      <td>17</td>\n",
       "      <td>8</td>\n",
       "    </tr>\n",
       "    <tr>\n",
       "      <th>389897</th>\n",
       "      <td>16</td>\n",
       "      <td>10</td>\n",
       "      <td>15</td>\n",
       "      <td>11</td>\n",
       "    </tr>\n",
       "    <tr>\n",
       "      <th>389898</th>\n",
       "      <td>17</td>\n",
       "      <td>9</td>\n",
       "      <td>14</td>\n",
       "      <td>11</td>\n",
       "    </tr>\n",
       "    <tr>\n",
       "      <th>389899</th>\n",
       "      <td>16</td>\n",
       "      <td>7</td>\n",
       "      <td>13</td>\n",
       "      <td>7</td>\n",
       "    </tr>\n",
       "  </tbody>\n",
       "</table>\n",
       "<p>389900 rows × 4 columns</p>\n",
       "</div>"
      ],
      "text/plain": [
       "        Quantidade de famílias NÃO beneficiárias do Programa Bolsa Família cadastradas em domicílios com escoamento sanitário por rede coletora de esgoto ou pluvial   \n",
       "0                                                      13                                                                                                             \\\n",
       "1                                                      12                                                                                                              \n",
       "2                                                      46                                                                                                              \n",
       "3                                                      14                                                                                                              \n",
       "4                                                     309                                                                                                              \n",
       "...                                                   ...                                                                                                              \n",
       "389895                                                 15                                                                                                              \n",
       "389896                                                 15                                                                                                              \n",
       "389897                                                 16                                                                                                              \n",
       "389898                                                 17                                                                                                              \n",
       "389899                                                 16                                                                                                              \n",
       "\n",
       "        Quantidade de famílias NÃO beneficiárias do Programa Bolsa Família cadastradas em domicílios com escoamento sanitário por fossa séptica   \n",
       "0                                                     606                                                                                        \\\n",
       "1                                                     701                                                                                         \n",
       "2                                                     950                                                                                         \n",
       "3                                                     668                                                                                         \n",
       "4                                                     844                                                                                         \n",
       "...                                                   ...                                                                                         \n",
       "389895                                                  6                                                                                         \n",
       "389896                                                  6                                                                                         \n",
       "389897                                                 10                                                                                         \n",
       "389898                                                  9                                                                                         \n",
       "389899                                                  7                                                                                         \n",
       "\n",
       "        Quantidade de famílias BENEFICIÁRIAS do Programa Bolsa Família cadastradas em domicílios com escoamento sanitário por rede coletora de esgoto ou pluvial   \n",
       "0                                                      10                                                                                                         \\\n",
       "1                                                      10                                                                                                          \n",
       "2                                                      23                                                                                                          \n",
       "3                                                      14                                                                                                          \n",
       "4                                                     162                                                                                                          \n",
       "...                                                   ...                                                                                                          \n",
       "389895                                                 15                                                                                                          \n",
       "389896                                                 17                                                                                                          \n",
       "389897                                                 15                                                                                                          \n",
       "389898                                                 14                                                                                                          \n",
       "389899                                                 13                                                                                                          \n",
       "\n",
       "        Quantidade de famílias BENEFICIÁRIAS do Programa Bolsa Família cadastradas em domicílios com escoamento sanitário por fossa séptica  \n",
       "0                                                     989                                                                                    \n",
       "1                                                     961                                                                                    \n",
       "2                                                    1045                                                                                    \n",
       "3                                                     987                                                                                    \n",
       "4                                                    1049                                                                                    \n",
       "...                                                   ...                                                                                    \n",
       "389895                                                  7                                                                                    \n",
       "389896                                                  8                                                                                    \n",
       "389897                                                 11                                                                                    \n",
       "389898                                                 11                                                                                    \n",
       "389899                                                  7                                                                                    \n",
       "\n",
       "[389900 rows x 4 columns]"
      ]
     },
     "execution_count": 147,
     "metadata": {},
     "output_type": "execute_result"
    }
   ],
   "source": [
    "sanitario[[sanitario.columns[4], sanitario.columns[5], sanitario.columns[11], sanitario.columns[12]]]"
   ]
  },
  {
   "cell_type": "code",
   "execution_count": 148,
   "metadata": {},
   "outputs": [],
   "source": [
    "sanitario = pd.read_csv(path_to_cad+\"/sanitario.csv\", encoding=\"latin1\")\n",
    "sanitario.rename(columns={\"Código\":\"cod_municipio\",\n",
    "                        \"Referência\":\"ano\",\n",
    "                        sanitario.columns[4]:\"esgoto_1\",\n",
    "                        sanitario.columns[5]:\"esgoto_2\",\n",
    "                        sanitario.columns[11]:\"esgoto_3\",\n",
    "                        sanitario.columns[12]:\"esgoto_4\"},\n",
    "                        inplace=True)\n",
    "sanitario = sanitario[[\"cod_municipio\", \"ano\", \"esgoto_1\", \"esgoto_2\", \"esgoto_3\", \"esgoto_4\"]]\n",
    "\n",
    "sanitario[\"ano\"] =  sanitario[\"ano\"].apply(lambda x: int(x[-4:]))\n",
    "sanitario = sanitario.query(\"ano==2023\")\n",
    "\n",
    "sanitario[\"sanitario_total\"] = sanitario[\"esgoto_1\"]+sanitario[\"esgoto_2\"]+sanitario[\"esgoto_3\"]+sanitario[\"esgoto_4\"]\n",
    "sanitario = sanitario[[\"cod_municipio\", \"sanitario_total\"]]\n",
    "sanitario = sanitario.groupby(\"cod_municipio\").sum().reset_index()"
   ]
  },
  {
   "cell_type": "code",
   "execution_count": 149,
   "metadata": {},
   "outputs": [
    {
     "data": {
      "text/html": [
       "<div>\n",
       "<style scoped>\n",
       "    .dataframe tbody tr th:only-of-type {\n",
       "        vertical-align: middle;\n",
       "    }\n",
       "\n",
       "    .dataframe tbody tr th {\n",
       "        vertical-align: top;\n",
       "    }\n",
       "\n",
       "    .dataframe thead th {\n",
       "        text-align: right;\n",
       "    }\n",
       "</style>\n",
       "<table border=\"1\" class=\"dataframe\">\n",
       "  <thead>\n",
       "    <tr style=\"text-align: right;\">\n",
       "      <th></th>\n",
       "      <th>cod_municipio</th>\n",
       "      <th>sanitario_total</th>\n",
       "      <th>familias_cadastradas</th>\n",
       "      <th>sanitario_porcentagem</th>\n",
       "    </tr>\n",
       "  </thead>\n",
       "  <tbody>\n",
       "    <tr>\n",
       "      <th>0</th>\n",
       "      <td>110001</td>\n",
       "      <td>567</td>\n",
       "      <td>14809.0</td>\n",
       "      <td>0.038288</td>\n",
       "    </tr>\n",
       "    <tr>\n",
       "      <th>1</th>\n",
       "      <td>110002</td>\n",
       "      <td>3209</td>\n",
       "      <td>51741.0</td>\n",
       "      <td>0.062020</td>\n",
       "    </tr>\n",
       "    <tr>\n",
       "      <th>2</th>\n",
       "      <td>110003</td>\n",
       "      <td>485</td>\n",
       "      <td>2731.0</td>\n",
       "      <td>0.177591</td>\n",
       "    </tr>\n",
       "    <tr>\n",
       "      <th>3</th>\n",
       "      <td>110004</td>\n",
       "      <td>36687</td>\n",
       "      <td>52768.0</td>\n",
       "      <td>0.695251</td>\n",
       "    </tr>\n",
       "    <tr>\n",
       "      <th>4</th>\n",
       "      <td>110005</td>\n",
       "      <td>1895</td>\n",
       "      <td>9489.0</td>\n",
       "      <td>0.199705</td>\n",
       "    </tr>\n",
       "    <tr>\n",
       "      <th>...</th>\n",
       "      <td>...</td>\n",
       "      <td>...</td>\n",
       "      <td>...</td>\n",
       "      <td>...</td>\n",
       "    </tr>\n",
       "    <tr>\n",
       "      <th>5565</th>\n",
       "      <td>522200</td>\n",
       "      <td>473</td>\n",
       "      <td>7927.0</td>\n",
       "      <td>0.059669</td>\n",
       "    </tr>\n",
       "    <tr>\n",
       "      <th>5566</th>\n",
       "      <td>522205</td>\n",
       "      <td>2415</td>\n",
       "      <td>5995.0</td>\n",
       "      <td>0.402836</td>\n",
       "    </tr>\n",
       "    <tr>\n",
       "      <th>5567</th>\n",
       "      <td>522220</td>\n",
       "      <td>902</td>\n",
       "      <td>4420.0</td>\n",
       "      <td>0.204072</td>\n",
       "    </tr>\n",
       "    <tr>\n",
       "      <th>5568</th>\n",
       "      <td>522230</td>\n",
       "      <td>144</td>\n",
       "      <td>5004.0</td>\n",
       "      <td>0.028777</td>\n",
       "    </tr>\n",
       "    <tr>\n",
       "      <th>5569</th>\n",
       "      <td>530010</td>\n",
       "      <td>881051</td>\n",
       "      <td>1017376.0</td>\n",
       "      <td>0.866003</td>\n",
       "    </tr>\n",
       "  </tbody>\n",
       "</table>\n",
       "<p>5570 rows × 4 columns</p>\n",
       "</div>"
      ],
      "text/plain": [
       "      cod_municipio  sanitario_total  familias_cadastradas   \n",
       "0            110001              567               14809.0  \\\n",
       "1            110002             3209               51741.0   \n",
       "2            110003              485                2731.0   \n",
       "3            110004            36687               52768.0   \n",
       "4            110005             1895                9489.0   \n",
       "...             ...              ...                   ...   \n",
       "5565         522200              473                7927.0   \n",
       "5566         522205             2415                5995.0   \n",
       "5567         522220              902                4420.0   \n",
       "5568         522230              144                5004.0   \n",
       "5569         530010           881051             1017376.0   \n",
       "\n",
       "      sanitario_porcentagem  \n",
       "0                  0.038288  \n",
       "1                  0.062020  \n",
       "2                  0.177591  \n",
       "3                  0.695251  \n",
       "4                  0.199705  \n",
       "...                     ...  \n",
       "5565               0.059669  \n",
       "5566               0.402836  \n",
       "5567               0.204072  \n",
       "5568               0.028777  \n",
       "5569               0.866003  \n",
       "\n",
       "[5570 rows x 4 columns]"
      ]
     },
     "execution_count": 149,
     "metadata": {},
     "output_type": "execute_result"
    }
   ],
   "source": [
    "sanitario = sanitario.merge(cad, on=\"cod_municipio\", how=\"left\")\n",
    "sanitario[\"sanitario_porcentagem\"] = sanitario[\"sanitario_total\"]/sanitario[\"familias_cadastradas\"]"
   ]
  },
  {
   "cell_type": "code",
   "execution_count": 153,
   "metadata": {},
   "outputs": [],
   "source": [
    "sanitario.to_csv(path_to_output + \"cad_unico_sanitario.csv\", index=False)"
   ]
  },
  {
   "attachments": {},
   "cell_type": "markdown",
   "metadata": {},
   "source": [
    "#### Lixo"
   ]
  },
  {
   "cell_type": "code",
   "execution_count": 154,
   "metadata": {},
   "outputs": [
    {
     "data": {
      "text/plain": [
       "Index(['Código', 'Unidade Territorial', 'UF', 'Referência',\n",
       "       'Quantidade de famílias cadastradas em domicílios onde o lixo é coletado diretamente',\n",
       "       'Quantidade de famílias cadastradas em domicílios onde o lixo é coletado indiretamente',\n",
       "       'Quantidade de famílias cadastradas em domicílios onde o lixo é queimado ou enterrado na propriedade',\n",
       "       'Quantidade de famílias cadastradas em domicílios onde o lixo é jogado em terreno baldio ou logradouro (rua, avenida, etc)',\n",
       "       'Quantidade de famílias cadastradas em domicílios onde o lixo é jogado em rio ou mar',\n",
       "       'Quantidade de famílias cadastradas em domicílios com outras formas de destinação do lixo',\n",
       "       'Quantidade de famílias cadastradas em domicílios sem informação sobre a forma de destinação do lixo'],\n",
       "      dtype='object')"
      ]
     },
     "execution_count": 154,
     "metadata": {},
     "output_type": "execute_result"
    }
   ],
   "source": [
    "lixo = pd.read_csv(path_to_cad+\"/lixo.csv\", encoding=\"latin1\")\n",
    "lixo.columns"
   ]
  },
  {
   "cell_type": "code",
   "execution_count": 161,
   "metadata": {},
   "outputs": [],
   "source": [
    "lixo = pd.read_csv(path_to_cad+\"/lixo.csv\", encoding=\"latin1\")\n",
    "lixo.rename(columns={\"Código\":\"cod_municipio\",\n",
    "                        \"Referência\":\"ano\",\n",
    "                        lixo.columns[4]:\"coleta_1\",\n",
    "                        lixo.columns[5]:\"coleta_2\"},\n",
    "                        inplace=True)\n",
    "lixo = lixo[[\"cod_municipio\", \"ano\", \"coleta_1\", \"coleta_2\"]]\n",
    "lixo[\"ano\"] =  lixo[\"ano\"].apply(lambda x: int(x[-4:]))\n",
    "lixo = lixo.query(\"ano==2023\")\n",
    "lixo[\"lixo_total\"] = lixo[\"coleta_1\"]+lixo[\"coleta_2\"]\n",
    "lixo = lixo[[\"cod_municipio\", \"lixo_total\"]]\n",
    "lixo = lixo.groupby(\"cod_municipio\").sum().reset_index()\n"
   ]
  },
  {
   "cell_type": "code",
   "execution_count": 162,
   "metadata": {},
   "outputs": [
    {
     "data": {
      "text/html": [
       "<div>\n",
       "<style scoped>\n",
       "    .dataframe tbody tr th:only-of-type {\n",
       "        vertical-align: middle;\n",
       "    }\n",
       "\n",
       "    .dataframe tbody tr th {\n",
       "        vertical-align: top;\n",
       "    }\n",
       "\n",
       "    .dataframe thead th {\n",
       "        text-align: right;\n",
       "    }\n",
       "</style>\n",
       "<table border=\"1\" class=\"dataframe\">\n",
       "  <thead>\n",
       "    <tr style=\"text-align: right;\">\n",
       "      <th></th>\n",
       "      <th>cod_municipio</th>\n",
       "      <th>lixo_total</th>\n",
       "      <th>familias_cadastradas</th>\n",
       "      <th>lixo_porcentagem</th>\n",
       "    </tr>\n",
       "  </thead>\n",
       "  <tbody>\n",
       "    <tr>\n",
       "      <th>5101</th>\n",
       "      <td>432377</td>\n",
       "      <td>584</td>\n",
       "      <td>584.0</td>\n",
       "      <td>1.000000</td>\n",
       "    </tr>\n",
       "    <tr>\n",
       "      <th>4716</th>\n",
       "      <td>430558</td>\n",
       "      <td>553</td>\n",
       "      <td>553.0</td>\n",
       "      <td>1.000000</td>\n",
       "    </tr>\n",
       "    <tr>\n",
       "      <th>4616</th>\n",
       "      <td>430057</td>\n",
       "      <td>361</td>\n",
       "      <td>361.0</td>\n",
       "      <td>1.000000</td>\n",
       "    </tr>\n",
       "    <tr>\n",
       "      <th>4796</th>\n",
       "      <td>430955</td>\n",
       "      <td>1536</td>\n",
       "      <td>1536.0</td>\n",
       "      <td>1.000000</td>\n",
       "    </tr>\n",
       "    <tr>\n",
       "      <th>3739</th>\n",
       "      <td>354210</td>\n",
       "      <td>4092</td>\n",
       "      <td>4098.0</td>\n",
       "      <td>0.998536</td>\n",
       "    </tr>\n",
       "    <tr>\n",
       "      <th>...</th>\n",
       "      <td>...</td>\n",
       "      <td>...</td>\n",
       "      <td>...</td>\n",
       "      <td>...</td>\n",
       "    </tr>\n",
       "    <tr>\n",
       "      <th>746</th>\n",
       "      <td>220375</td>\n",
       "      <td>412</td>\n",
       "      <td>6212.0</td>\n",
       "      <td>0.066323</td>\n",
       "    </tr>\n",
       "    <tr>\n",
       "      <th>493</th>\n",
       "      <td>210240</td>\n",
       "      <td>551</td>\n",
       "      <td>8952.0</td>\n",
       "      <td>0.061550</td>\n",
       "    </tr>\n",
       "    <tr>\n",
       "      <th>472</th>\n",
       "      <td>210135</td>\n",
       "      <td>365</td>\n",
       "      <td>6491.0</td>\n",
       "      <td>0.056232</td>\n",
       "    </tr>\n",
       "    <tr>\n",
       "      <th>480</th>\n",
       "      <td>210190</td>\n",
       "      <td>744</td>\n",
       "      <td>20482.0</td>\n",
       "      <td>0.036325</td>\n",
       "    </tr>\n",
       "    <tr>\n",
       "      <th>647</th>\n",
       "      <td>211178</td>\n",
       "      <td>138</td>\n",
       "      <td>19245.0</td>\n",
       "      <td>0.007171</td>\n",
       "    </tr>\n",
       "  </tbody>\n",
       "</table>\n",
       "<p>5570 rows × 4 columns</p>\n",
       "</div>"
      ],
      "text/plain": [
       "      cod_municipio  lixo_total  familias_cadastradas  lixo_porcentagem\n",
       "5101         432377         584                 584.0          1.000000\n",
       "4716         430558         553                 553.0          1.000000\n",
       "4616         430057         361                 361.0          1.000000\n",
       "4796         430955        1536                1536.0          1.000000\n",
       "3739         354210        4092                4098.0          0.998536\n",
       "...             ...         ...                   ...               ...\n",
       "746          220375         412                6212.0          0.066323\n",
       "493          210240         551                8952.0          0.061550\n",
       "472          210135         365                6491.0          0.056232\n",
       "480          210190         744               20482.0          0.036325\n",
       "647          211178         138               19245.0          0.007171\n",
       "\n",
       "[5570 rows x 4 columns]"
      ]
     },
     "execution_count": 162,
     "metadata": {},
     "output_type": "execute_result"
    }
   ],
   "source": [
    "lixo = lixo.merge(cad, on=\"cod_municipio\", how=\"left\")\n",
    "lixo[\"lixo_porcentagem\"] = lixo[\"lixo_total\"]/lixo[\"familias_cadastradas\"]\n",
    "lixo = lixo.sort_values(\"lixo_porcentagem\", ascending=False)"
   ]
  },
  {
   "cell_type": "code",
   "execution_count": 163,
   "metadata": {},
   "outputs": [],
   "source": [
    "lixo.to_csv(path_to_output + \"cad_unico_lixo.csv\", index=False)"
   ]
  },
  {
   "attachments": {},
   "cell_type": "markdown",
   "metadata": {},
   "source": [
    "#### Parede"
   ]
  },
  {
   "cell_type": "code",
   "execution_count": 166,
   "metadata": {},
   "outputs": [],
   "source": [
    "parede = pd.read_csv(path_to_cad+\"paredes.csv\", encoding=\"latin1\")\n",
    "parede.rename(columns={\"Código\":\"cod_municipio\",\n",
    "                        \"Referência\":\"ano\",\n",
    "                        parede.columns[4]:\"parede_1\",\n",
    "                        parede.columns[5]:\"parede_2\",\n",
    "                        parede.columns[6]:\"parede_3\"},\n",
    "                        inplace=True)\n",
    "parede = parede[[\"cod_municipio\", \"ano\", \"parede_1\", \"parede_2\", \"parede_3\"]]\n",
    "parede[\"ano\"] =  parede[\"ano\"].apply(lambda x: int(x[-4:]))\n",
    "parede = parede.query(\"ano==2023\")\n",
    "parede[\"parede_total\"] = parede[\"parede_1\"]+parede[\"parede_2\"]+parede[\"parede_3\"]\n",
    "parede = parede[[\"cod_municipio\", \"parede_total\"]]\n",
    "parede = parede.groupby(\"cod_municipio\").sum().reset_index()\n",
    "\n",
    "parede = parede.merge(cad, on=\"cod_municipio\", how=\"left\")\n",
    "parede[\"parede_porcentagem\"] = parede[\"parede_total\"]/parede[\"familias_cadastradas\"]\n",
    "parede = parede.sort_values(\"parede_porcentagem\", ascending=False)"
   ]
  },
  {
   "cell_type": "code",
   "execution_count": 168,
   "metadata": {},
   "outputs": [],
   "source": [
    "parede.to_csv(path_to_output + \"cad_unico_parede.csv\", index=False)"
   ]
  },
  {
   "attachments": {},
   "cell_type": "markdown",
   "metadata": {},
   "source": [
    "#### Piso"
   ]
  },
  {
   "cell_type": "code",
   "execution_count": 169,
   "metadata": {},
   "outputs": [
    {
     "data": {
      "text/plain": [
       "Index(['Código', 'Unidade Territorial', 'UF', 'Referência', 'Terra', 'Cimento',\n",
       "       'Madeira  aproveitada', 'Madeira aparelhada', 'Ceramica', 'Carpete',\n",
       "       'Outro  material', 'Sem resposta'],\n",
       "      dtype='object')"
      ]
     },
     "execution_count": 169,
     "metadata": {},
     "output_type": "execute_result"
    }
   ],
   "source": [
    "piso = pd.read_csv(path_to_cad+\"/piso.csv\", encoding=\"latin1\")\n",
    "piso.columns"
   ]
  },
  {
   "cell_type": "code",
   "execution_count": 170,
   "metadata": {},
   "outputs": [
    {
     "data": {
      "text/html": [
       "<div>\n",
       "<style scoped>\n",
       "    .dataframe tbody tr th:only-of-type {\n",
       "        vertical-align: middle;\n",
       "    }\n",
       "\n",
       "    .dataframe tbody tr th {\n",
       "        vertical-align: top;\n",
       "    }\n",
       "\n",
       "    .dataframe thead th {\n",
       "        text-align: right;\n",
       "    }\n",
       "</style>\n",
       "<table border=\"1\" class=\"dataframe\">\n",
       "  <thead>\n",
       "    <tr style=\"text-align: right;\">\n",
       "      <th></th>\n",
       "      <th>cod_municipio</th>\n",
       "      <th>piso_total</th>\n",
       "      <th>familias_cadastradas</th>\n",
       "      <th>piso_porcentagem</th>\n",
       "    </tr>\n",
       "  </thead>\n",
       "  <tbody>\n",
       "    <tr>\n",
       "      <th>0</th>\n",
       "      <td>110001</td>\n",
       "      <td>9048</td>\n",
       "      <td>14809.0</td>\n",
       "      <td>0.610980</td>\n",
       "    </tr>\n",
       "    <tr>\n",
       "      <th>1</th>\n",
       "      <td>110002</td>\n",
       "      <td>34248</td>\n",
       "      <td>51741.0</td>\n",
       "      <td>0.661912</td>\n",
       "    </tr>\n",
       "    <tr>\n",
       "      <th>2</th>\n",
       "      <td>110003</td>\n",
       "      <td>1938</td>\n",
       "      <td>2731.0</td>\n",
       "      <td>0.709630</td>\n",
       "    </tr>\n",
       "    <tr>\n",
       "      <th>3</th>\n",
       "      <td>110004</td>\n",
       "      <td>38313</td>\n",
       "      <td>52768.0</td>\n",
       "      <td>0.726065</td>\n",
       "    </tr>\n",
       "    <tr>\n",
       "      <th>4</th>\n",
       "      <td>110005</td>\n",
       "      <td>5371</td>\n",
       "      <td>9489.0</td>\n",
       "      <td>0.566024</td>\n",
       "    </tr>\n",
       "    <tr>\n",
       "      <th>...</th>\n",
       "      <td>...</td>\n",
       "      <td>...</td>\n",
       "      <td>...</td>\n",
       "      <td>...</td>\n",
       "    </tr>\n",
       "    <tr>\n",
       "      <th>5565</th>\n",
       "      <td>522200</td>\n",
       "      <td>3451</td>\n",
       "      <td>7927.0</td>\n",
       "      <td>0.435348</td>\n",
       "    </tr>\n",
       "    <tr>\n",
       "      <th>5566</th>\n",
       "      <td>522205</td>\n",
       "      <td>1623</td>\n",
       "      <td>5995.0</td>\n",
       "      <td>0.270726</td>\n",
       "    </tr>\n",
       "    <tr>\n",
       "      <th>5567</th>\n",
       "      <td>522220</td>\n",
       "      <td>2177</td>\n",
       "      <td>4420.0</td>\n",
       "      <td>0.492534</td>\n",
       "    </tr>\n",
       "    <tr>\n",
       "      <th>5568</th>\n",
       "      <td>522230</td>\n",
       "      <td>1790</td>\n",
       "      <td>5004.0</td>\n",
       "      <td>0.357714</td>\n",
       "    </tr>\n",
       "    <tr>\n",
       "      <th>5569</th>\n",
       "      <td>530010</td>\n",
       "      <td>733784</td>\n",
       "      <td>1017376.0</td>\n",
       "      <td>0.721252</td>\n",
       "    </tr>\n",
       "  </tbody>\n",
       "</table>\n",
       "<p>5570 rows × 4 columns</p>\n",
       "</div>"
      ],
      "text/plain": [
       "      cod_municipio  piso_total  familias_cadastradas  piso_porcentagem\n",
       "0            110001        9048               14809.0          0.610980\n",
       "1            110002       34248               51741.0          0.661912\n",
       "2            110003        1938                2731.0          0.709630\n",
       "3            110004       38313               52768.0          0.726065\n",
       "4            110005        5371                9489.0          0.566024\n",
       "...             ...         ...                   ...               ...\n",
       "5565         522200        3451                7927.0          0.435348\n",
       "5566         522205        1623                5995.0          0.270726\n",
       "5567         522220        2177                4420.0          0.492534\n",
       "5568         522230        1790                5004.0          0.357714\n",
       "5569         530010      733784             1017376.0          0.721252\n",
       "\n",
       "[5570 rows x 4 columns]"
      ]
     },
     "execution_count": 170,
     "metadata": {},
     "output_type": "execute_result"
    }
   ],
   "source": [
    "piso = pd.read_csv(path_to_cad+\"/piso.csv\", encoding=\"latin1\")\n",
    "piso.rename(columns={\"Código\":\"cod_municipio\",\n",
    "                        \"Referência\":\"ano\",\n",
    "                        piso.columns[-4]:\"piso_1\",\n",
    "                        piso.columns[-5]:\"piso_2\",\n",
    "                        piso.columns[-6]:\"piso_3\"},\n",
    "                        inplace=True)\n",
    "piso = piso[[\"cod_municipio\", \"ano\", \"piso_1\", \"piso_2\", \"piso_3\"]]\n",
    "piso[\"ano\"] =  piso[\"ano\"].apply(lambda x: int(x[-4:]))\n",
    "piso = piso.query(\"ano==2023\")\n",
    "piso[\"piso_total\"] = piso[\"piso_1\"]+piso[\"piso_2\"]+piso[\"piso_3\"]\n",
    "piso = piso[[\"cod_municipio\", \"piso_total\"]]\n",
    "piso = piso.groupby(\"cod_municipio\").sum().reset_index()\n",
    "\n",
    "piso = piso.merge(cad, on=\"cod_municipio\", how=\"left\")\n",
    "piso[\"piso_porcentagem\"] = piso[\"piso_total\"]/piso[\"familias_cadastradas\"]\n",
    "\n",
    "piso.to_csv(path_to_output + \"cad_unico_piso.csv\", index=False)\n"
   ]
  },
  {
   "cell_type": "code",
   "execution_count": 172,
   "metadata": {},
   "outputs": [
    {
     "data": {
      "text/plain": [
       "3330    0.000980\n",
       "3466    0.001252\n",
       "2651    0.002079\n",
       "2941    0.002328\n",
       "2939    0.002887\n",
       "          ...   \n",
       "4999    0.992963\n",
       "4716    0.994575\n",
       "4376    0.994643\n",
       "4702    0.994983\n",
       "4686    0.996089\n",
       "Name: piso_porcentagem, Length: 5570, dtype: float64"
      ]
     },
     "execution_count": 172,
     "metadata": {},
     "output_type": "execute_result"
    }
   ],
   "source": [
    "piso[\"piso_porcentagem\"].sort_values()"
   ]
  }
 ],
 "metadata": {
  "kernelspec": {
   "display_name": "Python 3",
   "language": "python",
   "name": "python3"
  },
  "language_info": {
   "codemirror_mode": {
    "name": "ipython",
    "version": 3
   },
   "file_extension": ".py",
   "mimetype": "text/x-python",
   "name": "python",
   "nbconvert_exporter": "python",
   "pygments_lexer": "ipython3",
   "version": "3.11.2"
  },
  "orig_nbformat": 4
 },
 "nbformat": 4,
 "nbformat_minor": 2
}
